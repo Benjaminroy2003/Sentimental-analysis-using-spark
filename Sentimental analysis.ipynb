{
  "cells": [
    {
      "cell_type": "code",
      "execution_count": null,
      "metadata": {
        "colab": {
          "background_save": true,
          "base_uri": "https://localhost:8080/"
        },
        "id": "vEUTcl6e_KV3",
        "outputId": "11f259af-1b53-44e0-fce4-3bb595e0ff3a"
      },
      "outputs": [
        {
          "name": "stdout",
          "output_type": "stream",
          "text": [
            "Get:1 https://cloud.r-project.org/bin/linux/ubuntu focal-cran40/ InRelease [3,622 B]\n",
            "Hit:2 https://developer.download.nvidia.com/compute/cuda/repos/ubuntu2004/x86_64  InRelease\n",
            "Hit:3 http://archive.ubuntu.com/ubuntu focal InRelease\n",
            "Get:4 http://security.ubuntu.com/ubuntu focal-security InRelease [114 kB]\n",
            "Get:5 http://archive.ubuntu.com/ubuntu focal-updates InRelease [114 kB]\n",
            "Hit:6 http://ppa.launchpad.net/c2d4u.team/c2d4u4.0+/ubuntu focal InRelease\n",
            "Get:7 http://archive.ubuntu.com/ubuntu focal-backports InRelease [108 kB]\n",
            "Hit:8 http://ppa.launchpad.net/cran/libgit2/ubuntu focal InRelease\n",
            "Hit:9 http://ppa.launchpad.net/deadsnakes/ppa/ubuntu focal InRelease\n",
            "Get:10 http://security.ubuntu.com/ubuntu focal-security/main amd64 Packages [2,590 kB]\n",
            "Get:11 http://archive.ubuntu.com/ubuntu focal-updates/universe amd64 Packages [1,323 kB]\n",
            "Get:12 http://ppa.launchpad.net/graphics-drivers/ppa/ubuntu focal InRelease [24.3 kB]\n",
            "Get:13 http://security.ubuntu.com/ubuntu focal-security/universe amd64 Packages [1,027 kB]\n",
            "Get:14 http://archive.ubuntu.com/ubuntu focal-updates/main amd64 Packages [3,069 kB]\n",
            "Get:15 http://archive.ubuntu.com/ubuntu focal-backports/universe amd64 Packages [28.6 kB]\n",
            "Get:16 http://archive.ubuntu.com/ubuntu focal-backports/main amd64 Packages [55.2 kB]\n",
            "Hit:17 http://ppa.launchpad.net/ubuntugis/ppa/ubuntu focal InRelease\n",
            "Get:18 http://ppa.launchpad.net/graphics-drivers/ppa/ubuntu focal/main amd64 Packages [42.0 kB]\n",
            "Fetched 8,499 kB in 2s (4,162 kB/s)\n",
            "Reading package lists... Done\n"
          ]
        }
      ],
      "source": [
        "!apt-get update\n",
        "# Download Java Virtual Machine (JVM)\n",
        "!apt-get install openjdk-8-jdk-headless -qq > /dev/null"
      ]
    },
    {
      "cell_type": "code",
      "execution_count": null,
      "metadata": {
        "id": "kffJ5agZAnCU"
      },
      "outputs": [],
      "source": [
        "# Download Spark\n",
        "!wget -q https://archive.apache.org/dist/spark/spark-3.2.1/spark-3.2.1-bin-hadoop3.2.tgz\n",
        "# Unzip the file\n",
        "!tar xf spark-3.2.1-bin-hadoop3.2.tgz"
      ]
    },
    {
      "cell_type": "code",
      "execution_count": null,
      "metadata": {
        "id": "kuOYU-pxAvAu"
      },
      "outputs": [],
      "source": [
        "!pip install -q findspark"
      ]
    },
    {
      "cell_type": "code",
      "execution_count": null,
      "metadata": {
        "id": "7ThsdgXjAxAh"
      },
      "outputs": [],
      "source": [
        "import os\n",
        "os.environ[\"JAVA_HOME\"] = \"/usr/lib/jvm/java-8-openjdk-amd64\"\n",
        "os.environ[\"SPARK_HOME\"] = '/content/spark-3.2.1-bin-hadoop3.2'"
      ]
    },
    {
      "cell_type": "code",
      "execution_count": null,
      "metadata": {
        "id": "sDRsphqBBD0E"
      },
      "outputs": [],
      "source": [
        "import findspark\n",
        "findspark.init()"
      ]
    },
    {
      "cell_type": "code",
      "execution_count": null,
      "metadata": {
        "id": "kjSJ3HMJAzSA"
      },
      "outputs": [],
      "source": [
        "from pyspark import SparkContext"
      ]
    },
    {
      "cell_type": "code",
      "execution_count": null,
      "metadata": {
        "id": "hSmQ0cRQ9KN0"
      },
      "outputs": [],
      "source": [
        "import pyspark\n",
        "from pyspark.sql import SparkSession\n",
        "\n",
        "sc = SparkSession.builder.appName(\"DataFrame\").config('spark.ui.port', '4050').getOrCreate()"
      ]
    },
    {
      "cell_type": "code",
      "execution_count": null,
      "metadata": {
        "colab": {
          "base_uri": "https://localhost:8080/"
        },
        "id": "2yG1lv7H9WdI",
        "outputId": "c84856da-f2b9-4b55-d151-478752901d10"
      },
      "outputs": [
        {
          "name": "stdout",
          "output_type": "stream",
          "text": [
            "--2023-04-03 05:05:01--  https://bin.equinox.io/c/4VmDzA7iaHb/ngrok-stable-linux-amd64.zip\n",
            "Resolving bin.equinox.io (bin.equinox.io)... 54.161.241.46, 54.237.133.81, 52.202.168.65, ...\n",
            "Connecting to bin.equinox.io (bin.equinox.io)|54.161.241.46|:443... connected.\n",
            "HTTP request sent, awaiting response... 200 OK\n",
            "Length: 13921656 (13M) [application/octet-stream]\n",
            "Saving to: ‘ngrok-stable-linux-amd64.zip.1’\n",
            "\n",
            "ngrok-stable-linux- 100%[===================>]  13.28M  18.0MB/s    in 0.7s    \n",
            "\n",
            "2023-04-03 05:05:02 (18.0 MB/s) - ‘ngrok-stable-linux-amd64.zip.1’ saved [13921656/13921656]\n",
            "\n",
            "Archive:  ngrok-stable-linux-amd64.zip\n",
            "replace ngrok? [y]es, [n]o, [A]ll, [N]one, [r]ename: A\n",
            "  inflating: ngrok                   \n"
          ]
        }
      ],
      "source": [
        "#!wget https://bin.equinox.io/c/4VmDzA7iaHb/ngrok-stable-linux-amd64.zip\n",
        "#!unzip ngrok-stable-linux-amd64.zip\n",
        "#get_ipython().system_raw('./ngrok http 4050 &')"
      ]
    },
    {
      "cell_type": "code",
      "execution_count": null,
      "metadata": {
        "colab": {
          "base_uri": "https://localhost:8080/"
        },
        "id": "JS2H9GUe-xiF",
        "outputId": "c44fcbe0-11ca-46e2-8f28-6eb887a8c6f0"
      },
      "outputs": [
        {
          "name": "stdout",
          "output_type": "stream",
          "text": [
            "{\"tunnels\":[{\"name\":\"command_line (http)\",\"uri\":\"/api/tunnels/command_line%20%28http%29\",\"public_url\":\"http://bb31-34-125-16-162.ngrok.io\",\"proto\":\"http\",\"config\":{\"addr\":\"http://localhost:4050\",\"inspect\":true},\"metrics\":{\"conns\":{\"count\":2,\"gauge\":0,\"rate1\":7.430001957643837e-8,\"rate5\":0.000463965496227878,\"rate15\":0.0009103774783890222,\"p50\":30818324385.5,\"p90\":31124397686,\"p95\":31124397686,\"p99\":31124397686},\"http\":{\"count\":4,\"rate1\":8.652726214541392e-8,\"rate5\":0.0008326877791252075,\"rate15\":0.0017561852294710658,\"p50\":3882998.5,\"p90\":147965285,\"p95\":147965285,\"p99\":147965285}}},{\"name\":\"command_line\",\"uri\":\"/api/tunnels/command_line\",\"public_url\":\"https://bb31-34-125-16-162.ngrok.io\",\"proto\":\"https\",\"config\":{\"addr\":\"http://localhost:4050\",\"inspect\":true},\"metrics\":{\"conns\":{\"count\":3,\"gauge\":0,\"rate1\":0.000002038650835310781,\"rate5\":0.0011541398319079613,\"rate15\":0.0015966389098493086,\"p50\":31788128556,\"p90\":33277721878,\"p95\":33277721878,\"p99\":33277721878},\"http\":{\"count\":8,\"rate1\":0.000003603820343225023,\"rate5\":0.0029397381306003724,\"rate15\":0.004207547693670974,\"p50\":2339558,\"p90\":2921208,\"p95\":2921208,\"p99\":2921208}}}],\"uri\":\"/api/tunnels\"}\n"
          ]
        }
      ],
      "source": [
        "#!curl -s http://localhost:4040/api/tunnels\n"
      ]
    },
    {
      "cell_type": "code",
      "execution_count": null,
      "metadata": {
        "colab": {
          "base_uri": "https://localhost:8080/"
        },
        "id": "NGM4McC6d0XE",
        "outputId": "0c23b51a-c91d-4d63-cb09-322ca1a2ec00"
      },
      "outputs": [
        {
          "name": "stdout",
          "output_type": "stream",
          "text": [
            "Archive:  ngrok-stable-linux-amd64.zip\n",
            "replace ngrok? [y]es, [n]o, [A]ll, [N]one, [r]ename: A\n",
            "  inflating: ngrok                   \n"
          ]
        }
      ],
      "source": [
        "#!unzip ngrok-stable-linux-amd64.zip"
      ]
    },
    {
      "cell_type": "code",
      "execution_count": null,
      "metadata": {
        "colab": {
          "base_uri": "https://localhost:8080/",
          "height": 130
        },
        "id": "CGw9ykCudp4M",
        "outputId": "ffb9b51a-13d2-47c5-8073-6271e8df9263"
      },
      "outputs": [
        {
          "ename": "SyntaxError",
          "evalue": "ignored",
          "output_type": "error",
          "traceback": [
            "\u001b[0;36m  File \u001b[0;32m\"<ipython-input-100-fac778d942b8>\"\u001b[0;36m, line \u001b[0;32m1\u001b[0m\n\u001b[0;31m    ngrok config add-authtoken 2NtyD4meHxcfccic93APkIq9BuA_42kEoeXtJXoJ3sqLbzktk\u001b[0m\n\u001b[0m          ^\u001b[0m\n\u001b[0;31mSyntaxError\u001b[0m\u001b[0;31m:\u001b[0m invalid syntax\n"
          ]
        }
      ],
      "source": [
        "#ngrok config add-authtoken 2NtyD4meHxcfccic93APkIq9BuA_42kEoeXtJXoJ3sqLbzktk"
      ]
    },
    {
      "cell_type": "code",
      "execution_count": null,
      "metadata": {
        "colab": {
          "base_uri": "https://localhost:8080/"
        },
        "id": "WwYULwgC-2T1",
        "outputId": "c16e907a-7d08-4feb-a004-500608d5e6b3"
      },
      "outputs": [
        {
          "name": "stdout",
          "output_type": "stream",
          "text": [
            "http://bb31-34-125-16-162.ngrok.io\n"
          ]
        }
      ],
      "source": [
        "#!curl -s http://localhost:4040/api/tunnels | python3 -c \"import sys, json; print(json.load(sys.stdin)['tunnels'][0]['public_url'])\""
      ]
    },
    {
      "cell_type": "code",
      "execution_count": null,
      "metadata": {
        "id": "MHaLZQ0DBSYl"
      },
      "outputs": [],
      "source": [
        "sc"
      ]
    },
    {
      "cell_type": "code",
      "execution_count": null,
      "metadata": {
        "id": "URVnAcnPBU3F"
      },
      "outputs": [],
      "source": [
        "#creeate a spark session\n",
        "from pyspark.sql import SparkSession"
      ]
    },
    {
      "cell_type": "code",
      "execution_count": null,
      "metadata": {
        "id": "uEEsWTG7CG-L"
      },
      "outputs": [],
      "source": [
        "spark = SparkSession.builder.appName(\"emotional recognation \").getOrCreate()"
      ]
    },
    {
      "cell_type": "code",
      "execution_count": null,
      "metadata": {
        "id": "zb2Xkt9KClqo"
      },
      "outputs": [],
      "source": [
        "#read the dataset\n",
        "df=spark.read.csv(\"/content/tweet_emotions.csv\",header=True,inferSchema=True )"
      ]
    },
    {
      "cell_type": "code",
      "execution_count": null,
      "metadata": {
        "id": "17XbbEgzDZz5"
      },
      "outputs": [],
      "source": [
        "df.show()"
      ]
    },
    {
      "cell_type": "code",
      "execution_count": null,
      "metadata": {
        "id": "BdiJuUkADnpb"
      },
      "outputs": [],
      "source": [
        "df.columns"
      ]
    },
    {
      "cell_type": "code",
      "execution_count": null,
      "metadata": {
        "id": "D1I9Wz1hDugO"
      },
      "outputs": [],
      "source": [
        "df.select('sentiment','content').show()"
      ]
    },
    {
      "cell_type": "code",
      "execution_count": null,
      "metadata": {
        "id": "ZW7-C3l0D12H"
      },
      "outputs": [],
      "source": [
        "df=df.select('content','sentiment')"
      ]
    },
    {
      "cell_type": "code",
      "execution_count": null,
      "metadata": {
        "id": "0RiOVP2fENyH"
      },
      "outputs": [],
      "source": [
        "df.show(5)"
      ]
    },
    {
      "cell_type": "code",
      "execution_count": null,
      "metadata": {
        "id": "11rH7Ek9EP_g"
      },
      "outputs": [],
      "source": [
        "df.groupBy('sentiment').count().show()"
      ]
    },
    {
      "cell_type": "code",
      "execution_count": null,
      "metadata": {
        "id": "PXV8b3XYEdmm"
      },
      "outputs": [],
      "source": [
        "#check for missing value\n",
        "df.toPandas()['sentiment'].isnull().sum()"
      ]
    },
    {
      "cell_type": "code",
      "execution_count": null,
      "metadata": {
        "id": "TD3oLTkVFEl8"
      },
      "outputs": [],
      "source": [
        "# feature extraction\n",
        "#CountVectorizer\n",
        "#TFIDF\n",
        "#wordEmbedding\n",
        "#hashingTF"
      ]
    },
    {
      "cell_type": "code",
      "execution_count": null,
      "metadata": {
        "id": "qG6-J2VTGOBT"
      },
      "outputs": [],
      "source": [
        "import pyspark.ml.feature"
      ]
    },
    {
      "cell_type": "code",
      "execution_count": null,
      "metadata": {
        "colab": {
          "base_uri": "https://localhost:8080/"
        },
        "id": "FDScQv4qGUZR",
        "outputId": "c0ce1522-c20d-4758-ba78-ec92e48c44d4"
      },
      "outputs": [
        {
          "data": {
            "text/plain": [
              "['Binarizer',\n",
              " 'BucketedRandomProjectionLSH',\n",
              " 'BucketedRandomProjectionLSHModel',\n",
              " 'Bucketizer',\n",
              " 'ChiSqSelector',\n",
              " 'ChiSqSelectorModel',\n",
              " 'CountVectorizer',\n",
              " 'CountVectorizerModel',\n",
              " 'DCT',\n",
              " 'ElementwiseProduct',\n",
              " 'FeatureHasher',\n",
              " 'HasFeaturesCol',\n",
              " 'HasHandleInvalid',\n",
              " 'HasInputCol',\n",
              " 'HasInputCols',\n",
              " 'HasLabelCol',\n",
              " 'HasMaxIter',\n",
              " 'HasNumFeatures',\n",
              " 'HasOutputCol',\n",
              " 'HasOutputCols',\n",
              " 'HasRelativeError',\n",
              " 'HasSeed',\n",
              " 'HasStepSize',\n",
              " 'HasThreshold',\n",
              " 'HasThresholds',\n",
              " 'HashingTF',\n",
              " 'IDF',\n",
              " 'IDFModel',\n",
              " 'Imputer',\n",
              " 'ImputerModel',\n",
              " 'IndexToString',\n",
              " 'Interaction',\n",
              " 'JavaEstimator',\n",
              " 'JavaMLReadable',\n",
              " 'JavaMLWritable',\n",
              " 'JavaModel',\n",
              " 'JavaParams',\n",
              " 'JavaTransformer',\n",
              " 'MaxAbsScaler',\n",
              " 'MaxAbsScalerModel',\n",
              " 'MinHashLSH',\n",
              " 'MinHashLSHModel',\n",
              " 'MinMaxScaler',\n",
              " 'MinMaxScalerModel',\n",
              " 'NGram',\n",
              " 'Normalizer',\n",
              " 'OneHotEncoder',\n",
              " 'OneHotEncoderModel',\n",
              " 'PCA',\n",
              " 'PCAModel',\n",
              " 'Param',\n",
              " 'Params',\n",
              " 'PolynomialExpansion',\n",
              " 'QuantileDiscretizer',\n",
              " 'RFormula',\n",
              " 'RFormulaModel',\n",
              " 'RegexTokenizer',\n",
              " 'RobustScaler',\n",
              " 'RobustScalerModel',\n",
              " 'SQLTransformer',\n",
              " 'SparkContext',\n",
              " 'StandardScaler',\n",
              " 'StandardScalerModel',\n",
              " 'StopWordsRemover',\n",
              " 'StringIndexer',\n",
              " 'StringIndexerModel',\n",
              " 'Tokenizer',\n",
              " 'TypeConverters',\n",
              " 'UnivariateFeatureSelector',\n",
              " 'UnivariateFeatureSelectorModel',\n",
              " 'VarianceThresholdSelector',\n",
              " 'VarianceThresholdSelectorModel',\n",
              " 'VectorAssembler',\n",
              " 'VectorIndexer',\n",
              " 'VectorIndexerModel',\n",
              " 'VectorSizeHint',\n",
              " 'VectorSlicer',\n",
              " 'Word2Vec',\n",
              " 'Word2VecModel',\n",
              " '_BucketedRandomProjectionLSHParams',\n",
              " '_CountVectorizerParams',\n",
              " '_IDFParams',\n",
              " '_ImputerParams',\n",
              " '_LSH',\n",
              " '_LSHModel',\n",
              " '_LSHParams',\n",
              " '_MaxAbsScalerParams',\n",
              " '_MinMaxScalerParams',\n",
              " '_OneHotEncoderParams',\n",
              " '_PCAParams',\n",
              " '_RFormulaParams',\n",
              " '_RobustScalerParams',\n",
              " '_Selector',\n",
              " '_SelectorModel',\n",
              " '_SelectorParams',\n",
              " '_StandardScalerParams',\n",
              " '_StringIndexerParams',\n",
              " '_UnivariateFeatureSelectorParams',\n",
              " '_VarianceThresholdSelectorParams',\n",
              " '_VectorIndexerParams',\n",
              " '_Word2VecParams',\n",
              " '__all__',\n",
              " '__builtins__',\n",
              " '__cached__',\n",
              " '__doc__',\n",
              " '__file__',\n",
              " '__loader__',\n",
              " '__name__',\n",
              " '__package__',\n",
              " '__spec__',\n",
              " '_convert_to_vector',\n",
              " '_jvm',\n",
              " 'inherit_doc',\n",
              " 'keyword_only',\n",
              " 'since']"
            ]
          },
          "execution_count": 122,
          "metadata": {},
          "output_type": "execute_result"
        }
      ],
      "source": [
        "dir(pyspark.ml.feature)"
      ]
    },
    {
      "cell_type": "code",
      "execution_count": null,
      "metadata": {
        "id": "wPfEXt_PGarJ"
      },
      "outputs": [],
      "source": [
        "from pyspark.ml.feature import Tokenizer,StopWordsRemover,CountVectorizer,IDF\n",
        "from pyspark.ml.feature import StringIndexer"
      ]
    },
    {
      "cell_type": "code",
      "execution_count": null,
      "metadata": {
        "colab": {
          "base_uri": "https://localhost:8080/"
        },
        "id": "c_RA-ZRkGwMf",
        "outputId": "39b53f6d-6e85-4d41-8871-653262563ce5"
      },
      "outputs": [
        {
          "name": "stdout",
          "output_type": "stream",
          "text": [
            "+--------------------+----------+\n",
            "|             content| sentiment|\n",
            "+--------------------+----------+\n",
            "|@tiffanylue i kno...|     empty|\n",
            "|Layin n bed with ...|   sadness|\n",
            "|Funeral ceremony....|   sadness|\n",
            "|wants to hang out...|enthusiasm|\n",
            "|@dannycastillo We...|   neutral|\n",
            "+--------------------+----------+\n",
            "only showing top 5 rows\n",
            "\n"
          ]
        }
      ],
      "source": [
        "df.show(5)"
      ]
    },
    {
      "cell_type": "code",
      "execution_count": null,
      "metadata": {
        "id": "XAqNr1QEGxZ7"
      },
      "outputs": [],
      "source": [
        "#Stages for pipeline\n",
        "tokenizer =Tokenizer(inputCol='content',outputCol='mytokens')\n",
        "stopword_remover=StopWordsRemover(inputCol='mytokens',outputCol='filtered_tokens')\n",
        "vectorizer= CountVectorizer(inputCol='filtered_tokens',outputCol='rawFeatures')\n",
        "idf=IDF(inputCol='rawFeatures',outputCol='vectorizedFeatures')"
      ]
    },
    {
      "cell_type": "code",
      "execution_count": null,
      "metadata": {
        "id": "hgdjlyFSserS"
      },
      "outputs": [],
      "source": [
        "labelEncoder = StringIndexer(inputCol='sentiment',outputCol='label').fit(df)"
      ]
    },
    {
      "cell_type": "code",
      "execution_count": null,
      "metadata": {
        "colab": {
          "base_uri": "https://localhost:8080/"
        },
        "id": "rrMkC433t0UF",
        "outputId": "61be4290-bba1-407e-a47c-111074728712"
      },
      "outputs": [
        {
          "name": "stdout",
          "output_type": "stream",
          "text": [
            "+--------------------+----------+-----+\n",
            "|             content| sentiment|label|\n",
            "+--------------------+----------+-----+\n",
            "|@tiffanylue i kno...|     empty|  9.0|\n",
            "|Layin n bed with ...|   sadness|  3.0|\n",
            "|Funeral ceremony....|   sadness|  3.0|\n",
            "|wants to hang out...|enthusiasm| 10.0|\n",
            "|@dannycastillo We...|   neutral|  0.0|\n",
            "+--------------------+----------+-----+\n",
            "only showing top 5 rows\n",
            "\n"
          ]
        }
      ],
      "source": [
        "labelEncoder.transform(df).show(5)"
      ]
    },
    {
      "cell_type": "code",
      "execution_count": null,
      "metadata": {
        "colab": {
          "base_uri": "https://localhost:8080/"
        },
        "id": "8TPh9zewt7vp",
        "outputId": "a1b4f66a-c7e6-424e-a5de-2425e82ecc4a"
      },
      "outputs": [
        {
          "data": {
            "text/plain": [
              "['neutral',\n",
              " 'worry',\n",
              " 'happiness',\n",
              " 'sadness',\n",
              " 'love',\n",
              " 'surprise',\n",
              " 'fun',\n",
              " 'relief',\n",
              " 'hate',\n",
              " 'empty',\n",
              " 'enthusiasm',\n",
              " 'boredom',\n",
              " 'anger']"
            ]
          },
          "execution_count": 128,
          "metadata": {},
          "output_type": "execute_result"
        }
      ],
      "source": [
        "labelEncoder.labels"
      ]
    },
    {
      "cell_type": "code",
      "execution_count": null,
      "metadata": {
        "id": "6lta2L3UuK5I"
      },
      "outputs": [],
      "source": [
        "label_dict={'neutral':0.0,\n",
        " 'worry':1.0,\n",
        " 'happiness':2.0,\n",
        " 'sadness':3.0,\n",
        " 'love':4.0,\n",
        " 'surprise':5.0,\n",
        " 'fun':6.0,\n",
        " 'relief':7.0,\n",
        " 'hate':8.0,\n",
        " 'empty':9.0,\n",
        " 'enthusiasm':10.0,\n",
        " 'boredom':11.0,\n",
        " 'anger':12.0}"
      ]
    },
    {
      "cell_type": "code",
      "execution_count": null,
      "metadata": {
        "id": "2Jf3R47GzlGh"
      },
      "outputs": [],
      "source": [
        "df = labelEncoder.transform(df)"
      ]
    },
    {
      "cell_type": "code",
      "execution_count": null,
      "metadata": {
        "colab": {
          "base_uri": "https://localhost:8080/"
        },
        "id": "20p_XWihxGNJ",
        "outputId": "d09a3552-10c3-4af5-c00a-787acb2f6eef"
      },
      "outputs": [
        {
          "name": "stdout",
          "output_type": "stream",
          "text": [
            "+--------------------+----------+-----+\n",
            "|             content| sentiment|label|\n",
            "+--------------------+----------+-----+\n",
            "|@tiffanylue i kno...|     empty|  9.0|\n",
            "|Layin n bed with ...|   sadness|  3.0|\n",
            "|Funeral ceremony....|   sadness|  3.0|\n",
            "|wants to hang out...|enthusiasm| 10.0|\n",
            "|@dannycastillo We...|   neutral|  0.0|\n",
            "|Re-pinging @ghost...|     worry|  1.0|\n",
            "|I should be sleep...|   sadness|  3.0|\n",
            "|Hmmm. http://www....|     worry|  1.0|\n",
            "|@charviray Charle...|   sadness|  3.0|\n",
            "|@kelcouch I'm sor...|   sadness|  3.0|\n",
            "|    cant fall asleep|   neutral|  0.0|\n",
            "|Choked on her ret...|     worry|  1.0|\n",
            "|Ugh! I have to be...|   sadness|  3.0|\n",
            "|@BrodyJenner if u...|   sadness|  3.0|\n",
            "|        Got the news|  surprise|  5.0|\n",
            "|The storm is here...|   sadness|  3.0|\n",
            "|@annarosekerr agreed|      love|  4.0|\n",
            "|So sleepy again a...|   sadness|  3.0|\n",
            "|@PerezHilton lady...|     worry|  1.0|\n",
            "|How are YOU convi...|   sadness|  3.0|\n",
            "+--------------------+----------+-----+\n",
            "only showing top 20 rows\n",
            "\n"
          ]
        }
      ],
      "source": [
        "df.show()"
      ]
    },
    {
      "cell_type": "code",
      "execution_count": null,
      "metadata": {
        "id": "PeURR8Zyu5Xz"
      },
      "outputs": [],
      "source": [
        "#split Dataset\n",
        "(trainDF,testDF) = df.randomSplit((0.7,0.3),seed=42)"
      ]
    },
    {
      "cell_type": "code",
      "execution_count": null,
      "metadata": {
        "id": "FckNbjHAvLkY"
      },
      "outputs": [],
      "source": [
        "#Estimator\n",
        "from pyspark.ml.classification import LogisticRegression"
      ]
    },
    {
      "cell_type": "code",
      "execution_count": null,
      "metadata": {
        "id": "gS61T5JkvjXa"
      },
      "outputs": [],
      "source": [
        "lr=LogisticRegression(featuresCol='vectorizedFeatures',labelCol='label')"
      ]
    },
    {
      "cell_type": "code",
      "execution_count": null,
      "metadata": {
        "id": "B84JQ4Wbv0pw"
      },
      "outputs": [],
      "source": [
        "# Building the pipeline"
      ]
    },
    {
      "cell_type": "code",
      "execution_count": null,
      "metadata": {
        "id": "L7Bs1yukv6Ad"
      },
      "outputs": [],
      "source": [
        "from pyspark.ml import Pipeline"
      ]
    },
    {
      "cell_type": "code",
      "execution_count": null,
      "metadata": {
        "id": "2OeLppfDwE-I"
      },
      "outputs": [],
      "source": [
        "pipeline = Pipeline(stages=[tokenizer,stopword_remover,vectorizer,idf,lr])"
      ]
    },
    {
      "cell_type": "code",
      "execution_count": null,
      "metadata": {
        "colab": {
          "base_uri": "https://localhost:8080/"
        },
        "id": "O7NtXB40wN79",
        "outputId": "b660cb76-6099-4aac-bd94-e563fe6db31b"
      },
      "outputs": [
        {
          "data": {
            "text/plain": [
              "Pipeline_9ba1f8ba0084"
            ]
          },
          "execution_count": 138,
          "metadata": {},
          "output_type": "execute_result"
        }
      ],
      "source": [
        "pipeline"
      ]
    },
    {
      "cell_type": "code",
      "execution_count": null,
      "metadata": {
        "colab": {
          "base_uri": "https://localhost:8080/"
        },
        "id": "Izri7jqSwqli",
        "outputId": "61ca0a52-197f-4883-aa62-3596ce241eca"
      },
      "outputs": [
        {
          "data": {
            "text/plain": [
              "Param(parent='Pipeline_9ba1f8ba0084', name='stages', doc='a list of pipeline stages')"
            ]
          },
          "execution_count": 139,
          "metadata": {},
          "output_type": "execute_result"
        }
      ],
      "source": [
        "pipeline.stages"
      ]
    },
    {
      "cell_type": "code",
      "execution_count": null,
      "metadata": {
        "id": "a8mhw58mwsBt"
      },
      "outputs": [],
      "source": [
        "lr_model = pipeline.fit(trainDF)"
      ]
    },
    {
      "cell_type": "code",
      "execution_count": null,
      "metadata": {
        "colab": {
          "base_uri": "https://localhost:8080/"
        },
        "id": "7BVG3n23wudt",
        "outputId": "b1a4355f-490b-474c-a312-f54c413b3b1f"
      },
      "outputs": [
        {
          "data": {
            "text/plain": [
              "PipelineModel_e5b7f8c34766"
            ]
          },
          "execution_count": 141,
          "metadata": {},
          "output_type": "execute_result"
        }
      ],
      "source": [
        "lr_model"
      ]
    },
    {
      "cell_type": "code",
      "execution_count": null,
      "metadata": {
        "id": "Y1DWnyYUwwL5"
      },
      "outputs": [],
      "source": [
        "predictions = lr_model.transform(testDF)"
      ]
    },
    {
      "cell_type": "code",
      "execution_count": null,
      "metadata": {
        "colab": {
          "base_uri": "https://localhost:8080/"
        },
        "id": "Kte5zVAfz0L_",
        "outputId": "ebf61fd5-d07c-4ca3-9cfa-aef7cea67c3c"
      },
      "outputs": [
        {
          "name": "stdout",
          "output_type": "stream",
          "text": [
            "+--------------------+----------+-----+--------------------+--------------------+--------------------+--------------------+--------------------+--------------------+----------+\n",
            "|             content| sentiment|label|            mytokens|     filtered_tokens|         rawFeatures|  vectorizedFeatures|       rawPrediction|         probability|prediction|\n",
            "+--------------------+----------+-----+--------------------+--------------------+--------------------+--------------------+--------------------+--------------------+----------+\n",
            "|#3wordsaftersex I...|   sadness|  3.0|[#3wordsaftersex,...|[#3wordsaftersex,...|(56877,[473,5106]...|(56877,[473,5106]...|[8.55460647939477...|[2.84644223141026...|       3.0|\n",
            "|#3wordsaftersex i...|   sadness|  3.0|[#3wordsaftersex,...|[#3wordsaftersex,...|(56877,[63,5106],...|(56877,[63,5106],...|[15.0237728367405...|[9.50653650672851...|       3.0|\n",
            "|#Ajax #php! Just ...|     worry|  1.0|[#ajax, #php!, ju...|[#ajax, #php!, th...|(56877,[86,236,49...|(56877,[86,236,49...|[1.45547326937356...|[1.26183843001997...|       1.0|\n",
            "|#BGT  Piers shoul...|      hate|  8.0|[#bgt, , piers, s...|[#bgt, , piers, b...|(56877,[0,66,470,...|(56877,[0,66,470,...|[-2.4002283711888...|[2.47386194078386...|       1.0|\n",
            "|  #BGT That poor kid|     worry|  1.0|[#bgt, that, poor...|   [#bgt, poor, kid]|(56877,[196,900,2...|(56877,[196,900,2...|[-6.0586262753878...|[6.49182338296164...|       1.0|\n",
            "|#BGT should littl...|   neutral|  0.0|[#bgt, should, li...|[#bgt, little, ho...|(56877,[66,70,196...|(56877,[66,70,196...|[-47.105279973346...|[1.52066013242034...|       1.0|\n",
            "|#BSNL, Stupid net...|     worry|  1.0|[#bsnl,, stupid, ...|[#bsnl,, stupid, ...|(56877,[1,130,201...|(56877,[1,130,201...|[-0.2359934182387...|[6.14475922485804...|       3.0|\n",
            "|#DuckRaces in the...|   neutral|  0.0|[#duckraces, in, ...|[#duckraces, bath...|(56877,[0,11,26,3...|(56877,[0,11,26,3...|[18.1098355652949...|[0.03533153747567...|       7.0|\n",
            "|#Ferber As happen...|     worry|  1.0|[#ferber, as, hap...|[#ferber, happens...|(56877,[0,24,249,...|(56877,[0,24,249,...|[2.52449644896947...|[5.67815719571314...|       7.0|\n",
            "|#Happy Mother's D...|     worry|  1.0|[#happy, mother's...|[#happy, mother's...|(56877,[1,46,1555...|(56877,[1,46,1555...|[6.18681356014903...|[6.89974843309266...|       2.0|\n",
            "|#Happy Stars Wars...| happiness|  2.0|[#happy, stars, w...|[#happy, stars, w...|(56877,[0,1,40,81...|(56877,[0,1,40,81...|[11.6815564173427...|[3.53333394749663...|       1.0|\n",
            "|#NHL Not a fan of...|enthusiasm| 10.0|[#nhl, not, a, fa...|[#nhl, fan, eithe...|(56877,[0,6,71,19...|(56877,[0,6,71,19...|[-16.525493728778...|[3.81411522394921...|       4.0|\n",
            "|#PhpEd 5.6 runnin...| happiness|  2.0|[#phped, 5.6, run...|[#phped, 5.6, run...|(56877,[2,256,539...|(56877,[2,256,539...|[40.4499221284630...|[0.99999999880395...|       0.0|\n",
            "|#SanctuarySunday ...|       fun|  6.0|[#sanctuarysunday...|[#sanctuarysunday...|(56877,[41,67,327...|(56877,[41,67,327...|[-0.7527549115683...|[2.76092501778171...|       2.0|\n",
            "|#SanctuarySunday ...|       fun|  6.0|[#sanctuarysunday...|[#sanctuarysunday...|(56877,[79,92,317...|(56877,[79,92,317...|[-5.3147127447827...|[2.02922550167760...|       2.0|\n",
            "|#SanctuarySunday ...|   neutral|  0.0|[#sanctuarysunday...|[#sanctuarysunday...|(56877,[355,609,1...|(56877,[355,609,1...|[18.5889020805742...|[0.98673234260216...|       0.0|\n",
            "|#SanctuarySunday ...| happiness|  2.0|[#sanctuarysunday...|[#sanctuarysunday...|(56877,[0,118,234...|(56877,[0,118,234...|[20.2375799902423...|[0.40734434092718...|       2.0|\n",
            "|#Volvicchallenge ...|   neutral|  0.0|[#volvicchallenge...|[#volvicchallenge...|(56877,[0,25,435,...|(56877,[0,25,435,...|[-11.923804414080...|[1.29993783999390...|       2.0|\n",
            "|#bgt Aw bless her...| happiness|  2.0|[#bgt, aw, bless,...|[#bgt, aw, bless,...|(56877,[3,56,68,9...|(56877,[3,56,68,9...|[-23.427880451125...|[2.01987079501750...|       1.0|\n",
            "|#bgt Can't watch ...|   neutral|  0.0|[#bgt, can't, wat...|[#bgt, watch, any...|(56877,[92,533,20...|(56877,[92,533,20...|[1.00787711682571...|[1.00417939873487...|       1.0|\n",
            "+--------------------+----------+-----+--------------------+--------------------+--------------------+--------------------+--------------------+--------------------+----------+\n",
            "only showing top 20 rows\n",
            "\n"
          ]
        }
      ],
      "source": [
        "predictions.show()"
      ]
    },
    {
      "cell_type": "code",
      "execution_count": null,
      "metadata": {
        "colab": {
          "base_uri": "https://localhost:8080/"
        },
        "id": "91M8g0QHz13M",
        "outputId": "7253f054-5bba-4bf9-8c01-776fad03b150"
      },
      "outputs": [
        {
          "data": {
            "text/plain": [
              "['content',\n",
              " 'sentiment',\n",
              " 'label',\n",
              " 'mytokens',\n",
              " 'filtered_tokens',\n",
              " 'rawFeatures',\n",
              " 'vectorizedFeatures',\n",
              " 'rawPrediction',\n",
              " 'probability',\n",
              " 'prediction']"
            ]
          },
          "execution_count": 144,
          "metadata": {},
          "output_type": "execute_result"
        }
      ],
      "source": [
        "predictions.columns"
      ]
    },
    {
      "cell_type": "code",
      "execution_count": null,
      "metadata": {
        "colab": {
          "base_uri": "https://localhost:8080/"
        },
        "id": "EEstuzHFz4uV",
        "outputId": "f5151f08-74d0-45ef-919b-2f75fa13ba9d"
      },
      "outputs": [
        {
          "name": "stdout",
          "output_type": "stream",
          "text": [
            "+--------------------+--------------------+---------+-----+----------+\n",
            "|       rawPrediction|         probability|sentiment|label|prediction|\n",
            "+--------------------+--------------------+---------+-----+----------+\n",
            "|[8.55460647939477...|[2.84644223141026...|  sadness|  3.0|       3.0|\n",
            "|[15.0237728367405...|[9.50653650672851...|  sadness|  3.0|       3.0|\n",
            "|[1.45547326937356...|[1.26183843001997...|    worry|  1.0|       1.0|\n",
            "|[-2.4002283711888...|[2.47386194078386...|     hate|  8.0|       1.0|\n",
            "|[-6.0586262753878...|[6.49182338296164...|    worry|  1.0|       1.0|\n",
            "|[-47.105279973346...|[1.52066013242034...|  neutral|  0.0|       1.0|\n",
            "|[-0.2359934182387...|[6.14475922485804...|    worry|  1.0|       3.0|\n",
            "|[18.1098355652949...|[0.03533153747567...|  neutral|  0.0|       7.0|\n",
            "|[2.52449644896947...|[5.67815719571314...|    worry|  1.0|       7.0|\n",
            "|[6.18681356014903...|[6.89974843309266...|    worry|  1.0|       2.0|\n",
            "+--------------------+--------------------+---------+-----+----------+\n",
            "only showing top 10 rows\n",
            "\n"
          ]
        }
      ],
      "source": [
        "predictions.select('rawPrediction','probability','sentiment','label','prediction').show(10)"
      ]
    },
    {
      "cell_type": "code",
      "execution_count": null,
      "metadata": {
        "id": "P0g_GCELz7OI"
      },
      "outputs": [],
      "source": [
        "### Model Evaluation\n",
        "# Accuracy\n",
        "# Precision\n",
        "# F1score"
      ]
    },
    {
      "cell_type": "code",
      "execution_count": null,
      "metadata": {
        "id": "6u4zVGXg0RvV"
      },
      "outputs": [],
      "source": [
        "from pyspark.ml.evaluation import MulticlassClassificationEvaluator"
      ]
    },
    {
      "cell_type": "code",
      "execution_count": null,
      "metadata": {
        "id": "YkRhn7xP0V9P"
      },
      "outputs": [],
      "source": [
        "evaluator = MulticlassClassificationEvaluator(labelCol='label',predictionCol='prediction',metricName='accuracy')"
      ]
    },
    {
      "cell_type": "code",
      "execution_count": null,
      "metadata": {
        "id": "-GIHkj5G0kFq"
      },
      "outputs": [],
      "source": [
        "accuracy = evaluator.evaluate(predictions)"
      ]
    },
    {
      "cell_type": "code",
      "execution_count": null,
      "metadata": {
        "colab": {
          "base_uri": "https://localhost:8080/"
        },
        "id": "CPeHuQGg0mLN",
        "outputId": "bde8e099-c0f1-4bba-d2a1-c66dadad9a7e"
      },
      "outputs": [
        {
          "data": {
            "text/plain": [
              "0.22861938732689888"
            ]
          },
          "execution_count": 150,
          "metadata": {},
          "output_type": "execute_result"
        }
      ],
      "source": [
        "accuracy"
      ]
    },
    {
      "cell_type": "code",
      "execution_count": null,
      "metadata": {
        "id": "23Qg3CG10nfb"
      },
      "outputs": [],
      "source": [
        "#### Method 2: Precision. F1Score (Classification Report)\n",
        "from pyspark.mllib.evaluation import MulticlassMetrics"
      ]
    },
    {
      "cell_type": "code",
      "execution_count": null,
      "metadata": {
        "colab": {
          "base_uri": "https://localhost:8080/"
        },
        "id": "2LDrBn7U0tjr",
        "outputId": "b9defe93-10a7-409f-e357-adb11824d204"
      },
      "outputs": [
        {
          "name": "stderr",
          "output_type": "stream",
          "text": [
            "/content/spark-3.2.1-bin-hadoop3.2/python/pyspark/sql/context.py:125: FutureWarning: Deprecated in 3.0.0. Use SparkSession.builder.getOrCreate() instead.\n",
            "  warnings.warn(\n"
          ]
        }
      ],
      "source": [
        "lr_metric = MulticlassMetrics(predictions['label','prediction'].rdd)"
      ]
    },
    {
      "cell_type": "code",
      "execution_count": null,
      "metadata": {
        "colab": {
          "base_uri": "https://localhost:8080/"
        },
        "id": "GTPa91CJ0vdE",
        "outputId": "5bcdac6b-5b7c-4f9b-b0e7-a6a2d48c856e"
      },
      "outputs": [
        {
          "name": "stdout",
          "output_type": "stream",
          "text": [
            "Accuracy: 0.22861938732689888\n",
            "Precision: 0.28881737731295254\n",
            "Recall: 0.28870124648170487\n",
            "F1Score: 0.2887593002211944\n"
          ]
        }
      ],
      "source": [
        "print(\"Accuracy:\",lr_metric.accuracy)\n",
        "print(\"Precision:\",lr_metric.precision(1.0))\n",
        "print(\"Recall:\",lr_metric.recall(1.0))\n",
        "print(\"F1Score:\",lr_metric.fMeasure(1.0))"
      ]
    },
    {
      "cell_type": "code",
      "execution_count": null,
      "metadata": {
        "id": "YlA2dq0M0xos"
      },
      "outputs": [],
      "source": [
        "#confusion Matrix\n",
        "\n"
      ]
    },
    {
      "cell_type": "code",
      "execution_count": null,
      "metadata": {
        "id": "T-p8itaN05BD"
      },
      "outputs": [],
      "source": [
        "y_true = predictions.select('label')\n",
        "y_true = y_true.toPandas()\n",
        "y_pred = predictions.select('prediction')\n",
        "y_pred = y_pred.toPandas()"
      ]
    },
    {
      "cell_type": "code",
      "execution_count": null,
      "metadata": {
        "id": "SG-uF8wO06cL"
      },
      "outputs": [],
      "source": [
        "from sklearn.metrics import confusion_matrix,classification_report"
      ]
    },
    {
      "cell_type": "code",
      "execution_count": null,
      "metadata": {
        "id": "I-CUG707078s"
      },
      "outputs": [],
      "source": [
        "cm = confusion_matrix(y_true,y_pred)"
      ]
    },
    {
      "cell_type": "code",
      "execution_count": null,
      "metadata": {
        "colab": {
          "base_uri": "https://localhost:8080/"
        },
        "id": "UVP76UuB09iH",
        "outputId": "a121bd34-f5e4-42b6-85b3-d3b76bdf3882"
      },
      "outputs": [
        {
          "data": {
            "text/plain": [
              "array([[829, 495, 302, 323, 155, 104,  66, 114,  55,  63,  39,  21,   8],\n",
              "       [523, 718, 201, 419, 148,  93,  61, 107,  89,  70,  33,  16,   8],\n",
              "       [314, 206, 342, 146, 195,  66,  64,  91,  31,  27,  35,   6,   1],\n",
              "       [281, 396, 124, 380,  97,  55,  34,  61,  57,  46,  20,  13,   7],\n",
              "       [192, 152, 200, 121, 287,  45,  26,  44,  20,  31,  23,  11,   1],\n",
              "       [170, 121,  73,  76,  57,  44,  23,  32,  22,  21,  16,   5,   0],\n",
              "       [123,  84,  98,  59,  49,  16,  31,  29,  15,  17,  17,   2,   3],\n",
              "       [110,  81,  56,  60,  39,  18,  13,  37,  13,  12,   8,   5,   2],\n",
              "       [ 75, 112,  13,  97,  11,   9,   9,  10,  41,   9,   1,   8,   3],\n",
              "       [ 71,  50,  26,  30,  10,   8,   7,  16,  12,   8,   3,   1,   1],\n",
              "       [ 55,  45,  23,  33,  12,  13,   8,  12,   7,   6,   6,   2,   0],\n",
              "       [ 15,  16,   5,   8,   1,   0,   0,   3,   1,   3,   0,   0,   1],\n",
              "       [  6,  11,   1,   4,   0,   0,   0,   1,   2,   3,   5,   0,   1]])"
            ]
          },
          "execution_count": 158,
          "metadata": {},
          "output_type": "execute_result"
        }
      ],
      "source": [
        "cm"
      ]
    },
    {
      "cell_type": "code",
      "execution_count": null,
      "metadata": {
        "id": "ugzJ6Fys0_rD"
      },
      "outputs": [],
      "source": [
        "import matplotlib.pyplot as plt\n",
        "import numpy as np\n",
        "import itertools\n",
        "\n",
        "def plot_confusion_matrix(cm, classes,\n",
        "                          normalize=False,\n",
        "                          title='Confusion matrix',\n",
        "                          cmap=plt.cm.Blues):\n",
        "    \"\"\"\n",
        "    This function prints and plots the confusion matrix.\n",
        "    Normalization can be applied by setting `normalize=True`.\n",
        "    \"\"\"\n",
        "    if normalize:\n",
        "        cm = cm.astype('float') / cm.sum(axis=1)[:, np.newaxis]\n",
        "        print(\"Normalized confusion matrix\")\n",
        "    else:\n",
        "        print('Confusion matrix, without normalization')\n",
        "\n",
        "    print(cm)\n",
        "\n",
        "    plt.imshow(cm, interpolation='nearest', cmap=cmap)\n",
        "    plt.title(title)\n",
        "    plt.colorbar()\n",
        "    tick_marks = np.arange(len(classes))\n",
        "    plt.xticks(tick_marks, classes, rotation=45)\n",
        "    plt.yticks(tick_marks, classes)\n",
        "\n",
        "    fmt = '.2f' if normalize else 'd'\n",
        "    thresh = cm.max() / 2.\n",
        "    for i, j in itertools.product(range(cm.shape[0]), range(cm.shape[1])):\n",
        "        plt.text(j, i, format(cm[i, j], fmt),\n",
        "                 horizontalalignment=\"center\",\n",
        "                 color=\"white\" if cm[i, j] > thresh else \"black\")\n",
        "\n",
        "    plt.tight_layout()\n",
        "    plt.ylabel('True label')\n",
        "    plt.xlabel('Predicted label')"
      ]
    },
    {
      "cell_type": "code",
      "execution_count": null,
      "metadata": {
        "colab": {
          "base_uri": "https://localhost:8080/"
        },
        "id": "rsMRAAbq1Gs_",
        "outputId": "058fc545-5a28-475a-8c6d-e12dc79a108a"
      },
      "outputs": [
        {
          "data": {
            "text/plain": [
              "dict_keys(['neutral', 'worry', 'happiness', 'sadness', 'love', 'surprise', 'fun', 'relief', 'hate', 'empty', 'enthusiasm', 'boredom', 'anger'])"
            ]
          },
          "execution_count": 160,
          "metadata": {},
          "output_type": "execute_result"
        }
      ],
      "source": [
        "label_dict.keys()"
      ]
    },
    {
      "cell_type": "code",
      "execution_count": null,
      "metadata": {
        "id": "gSzrhbMq1Ihk"
      },
      "outputs": [],
      "source": [
        "class_names=['neutral',\n",
        " 'worry',\n",
        " 'happiness',\n",
        " 'sadness',\n",
        " 'love',\n",
        " 'surprise',\n",
        " 'fun',\n",
        " 'relief',\n",
        " 'hate',\n",
        " 'empty',\n",
        " 'enthusiasm',\n",
        " 'boredom',\n",
        " 'anger']"
      ]
    },
    {
      "cell_type": "code",
      "execution_count": null,
      "metadata": {
        "colab": {
          "base_uri": "https://localhost:8080/",
          "height": 749
        },
        "id": "NaFPvw-v1UWT",
        "outputId": "f5aa41c9-f207-4737-9a6d-9c2838fb113a"
      },
      "outputs": [
        {
          "name": "stdout",
          "output_type": "stream",
          "text": [
            "Confusion matrix, without normalization\n",
            "[[829 495 302 323 155 104  66 114  55  63  39  21   8]\n",
            " [523 718 201 419 148  93  61 107  89  70  33  16   8]\n",
            " [314 206 342 146 195  66  64  91  31  27  35   6   1]\n",
            " [281 396 124 380  97  55  34  61  57  46  20  13   7]\n",
            " [192 152 200 121 287  45  26  44  20  31  23  11   1]\n",
            " [170 121  73  76  57  44  23  32  22  21  16   5   0]\n",
            " [123  84  98  59  49  16  31  29  15  17  17   2   3]\n",
            " [110  81  56  60  39  18  13  37  13  12   8   5   2]\n",
            " [ 75 112  13  97  11   9   9  10  41   9   1   8   3]\n",
            " [ 71  50  26  30  10   8   7  16  12   8   3   1   1]\n",
            " [ 55  45  23  33  12  13   8  12   7   6   6   2   0]\n",
            " [ 15  16   5   8   1   0   0   3   1   3   0   0   1]\n",
            " [  6  11   1   4   0   0   0   1   2   3   5   0   1]]\n"
          ]
        },
        {
          "data": {
            "image/png": "[encoded data removed]",
            "text/plain": [
              "<Figure size 640x480 with 2 Axes>"
            ]
          },
          "metadata": {},
          "output_type": "display_data"
        }
      ],
      "source": [
        "plot_confusion_matrix(cm,class_names)"
      ]
    },
    {
      "cell_type": "code",
      "execution_count": null,
      "metadata": {
        "colab": {
          "base_uri": "https://localhost:8080/"
        },
        "id": "BlQVTfBN1Vw7",
        "outputId": "574d8496-08a6-45e6-bf79-ca921c6952a1"
      },
      "outputs": [
        {
          "name": "stdout",
          "output_type": "stream",
          "text": [
            "              precision    recall  f1-score   support\n",
            "\n",
            "         0.0       0.30      0.32      0.31      2574\n",
            "         1.0       0.29      0.29      0.29      2486\n",
            "         2.0       0.23      0.22      0.23      1524\n",
            "         3.0       0.22      0.24      0.23      1571\n",
            "         4.0       0.27      0.25      0.26      1153\n",
            "         5.0       0.09      0.07      0.08       660\n",
            "         6.0       0.09      0.06      0.07       543\n",
            "         7.0       0.07      0.08      0.07       454\n",
            "         8.0       0.11      0.10      0.11       398\n",
            "         9.0       0.03      0.03      0.03       243\n",
            "        10.0       0.03      0.03      0.03       222\n",
            "        11.0       0.00      0.00      0.00        53\n",
            "        12.0       0.03      0.03      0.03        34\n",
            "\n",
            "    accuracy                           0.23     11915\n",
            "   macro avg       0.13      0.13      0.13     11915\n",
            "weighted avg       0.23      0.23      0.23     11915\n",
            "\n"
          ]
        }
      ],
      "source": [
        "# Classication Report\n",
        "print(classification_report(y_true,y_pred))"
      ]
    },
    {
      "cell_type": "code",
      "execution_count": null,
      "metadata": {
        "colab": {
          "base_uri": "https://localhost:8080/"
        },
        "id": "YRHiyOMz1iVH",
        "outputId": "c45ad226-0ffa-4ba9-e359-2744aad276f7"
      },
      "outputs": [
        {
          "name": "stdout",
          "output_type": "stream",
          "text": [
            "              precision    recall  f1-score   support\n",
            "\n",
            "     neutral       0.30      0.32      0.31      2574\n",
            "       worry       0.29      0.29      0.29      2486\n",
            "   happiness       0.23      0.22      0.23      1524\n",
            "     sadness       0.22      0.24      0.23      1571\n",
            "        love       0.27      0.25      0.26      1153\n",
            "    surprise       0.09      0.07      0.08       660\n",
            "         fun       0.09      0.06      0.07       543\n",
            "      relief       0.07      0.08      0.07       454\n",
            "        hate       0.11      0.10      0.11       398\n",
            "       empty       0.03      0.03      0.03       243\n",
            "  enthusiasm       0.03      0.03      0.03       222\n",
            "     boredom       0.00      0.00      0.00        53\n",
            "       anger       0.03      0.03      0.03        34\n",
            "\n",
            "    accuracy                           0.23     11915\n",
            "   macro avg       0.13      0.13      0.13     11915\n",
            "weighted avg       0.23      0.23      0.23     11915\n",
            "\n"
          ]
        }
      ],
      "source": [
        "# Classication Report\n",
        "print(classification_report(y_true,y_pred,target_names=class_names))"
      ]
    },
    {
      "cell_type": "code",
      "execution_count": null,
      "metadata": {
        "colab": {
          "base_uri": "https://localhost:8080/"
        },
        "id": "sEAAVoag1kzg",
        "outputId": "d1fcd4d8-518e-46b4-de46-3090358fd4dc"
      },
      "outputs": [
        {
          "data": {
            "text/plain": [
              "<map at 0x7f092a84c8e0>"
            ]
          },
          "execution_count": 165,
          "metadata": {},
          "output_type": "execute_result"
        }
      ],
      "source": [
        "class_temp = predictions.select(\"label\").groupBy(\"label\")\\\n",
        "                        .count().sort('count', ascending=False).toPandas()\n",
        "class_temp = class_temp[\"label\"].values.tolist()\n",
        "class_names = map(str, class_temp)\n",
        "# # # print(class_name)\n",
        "class_names"
      ]
    },
    {
      "cell_type": "code",
      "execution_count": null,
      "metadata": {
        "id": "Zr8M5uEB1oSF"
      },
      "outputs": [],
      "source": [
        "#Making Single Prediction"
      ]
    },
    {
      "cell_type": "code",
      "execution_count": null,
      "metadata": {
        "id": "zvgSzDyp2CAM"
      },
      "outputs": [],
      "source": [
        "from pyspark.sql.types import StringType"
      ]
    },
    {
      "cell_type": "code",
      "execution_count": null,
      "metadata": {
        "id": "crgpD4-c2DiT"
      },
      "outputs": [],
      "source": [
        "ex1 = spark.createDataFrame([\n",
        "    (\"Your greatest glory is not in always falling but in rising every time you fall\",StringType())\n",
        "],\n",
        "# Column Name\n",
        "[\"content\"]\n",
        "\n",
        ")"
      ]
    },
    {
      "cell_type": "code",
      "execution_count": null,
      "metadata": {
        "colab": {
          "base_uri": "https://localhost:8080/"
        },
        "id": "1rBO9LlC2S8_",
        "outputId": "55fcdd2b-1cf5-4da9-d835-bf46482dbb09"
      },
      "outputs": [
        {
          "name": "stdout",
          "output_type": "stream",
          "text": [
            "+--------------------+---+\n",
            "|             content| _2|\n",
            "+--------------------+---+\n",
            "|Your greatest glo...| {}|\n",
            "+--------------------+---+\n",
            "\n"
          ]
        }
      ],
      "source": [
        "ex1.show()"
      ]
    },
    {
      "cell_type": "code",
      "execution_count": null,
      "metadata": {
        "id": "6ZOHYrbx2U8t"
      },
      "outputs": [],
      "source": [
        "pred_ex1 = lr_model.transform(ex1)"
      ]
    },
    {
      "cell_type": "code",
      "execution_count": null,
      "metadata": {
        "colab": {
          "base_uri": "https://localhost:8080/"
        },
        "id": "fVB-RLy02YpV",
        "outputId": "30dcfd28-75d8-4d74-a1a4-f938c07f336f"
      },
      "outputs": [
        {
          "name": "stdout",
          "output_type": "stream",
          "text": [
            "+--------------------+---+--------------------+--------------------+--------------------+--------------------+--------------------+--------------------+----------+\n",
            "|             content| _2|            mytokens|     filtered_tokens|         rawFeatures|  vectorizedFeatures|       rawPrediction|         probability|prediction|\n",
            "+--------------------+---+--------------------+--------------------+--------------------+--------------------+--------------------+--------------------+----------+\n",
            "|Your greatest glo...| {}|[your, greatest, ...|[greatest, glory,...|(56877,[19,82,249...|(56877,[19,82,249...|[-2.8189781460936...|[7.03641702920245...|       4.0|\n",
            "+--------------------+---+--------------------+--------------------+--------------------+--------------------+--------------------+--------------------+----------+\n",
            "\n"
          ]
        }
      ],
      "source": [
        "pred_ex1.show()"
      ]
    },
    {
      "cell_type": "code",
      "execution_count": null,
      "metadata": {
        "colab": {
          "base_uri": "https://localhost:8080/"
        },
        "id": "9cblyaX62ajn",
        "outputId": "f11c3366-85a1-4772-dcb8-abe32acc499b"
      },
      "outputs": [
        {
          "data": {
            "text/plain": [
              "['content',\n",
              " '_2',\n",
              " 'mytokens',\n",
              " 'filtered_tokens',\n",
              " 'rawFeatures',\n",
              " 'vectorizedFeatures',\n",
              " 'rawPrediction',\n",
              " 'probability',\n",
              " 'prediction']"
            ]
          },
          "execution_count": 202,
          "metadata": {},
          "output_type": "execute_result"
        }
      ],
      "source": [
        "pred_ex1.columns"
      ]
    },
    {
      "cell_type": "code",
      "execution_count": null,
      "metadata": {
        "colab": {
          "base_uri": "https://localhost:8080/"
        },
        "id": "J4YuMce72i8l",
        "outputId": "bd41ddb2-62ff-434f-b9fa-b1a5f0051b3b"
      },
      "outputs": [
        {
          "name": "stdout",
          "output_type": "stream",
          "text": [
            "+--------------------+--------------------+--------------------+----------+\n",
            "|             content|       rawPrediction|         probability|prediction|\n",
            "+--------------------+--------------------+--------------------+----------+\n",
            "|Your greatest glo...|[-2.8189781460936...|[7.03641702920245...|       4.0|\n",
            "+--------------------+--------------------+--------------------+----------+\n",
            "\n"
          ]
        }
      ],
      "source": [
        "pred_ex1.select('content','rawPrediction','probability','prediction').show()"
      ]
    },
    {
      "cell_type": "code",
      "execution_count": null,
      "metadata": {
        "colab": {
          "base_uri": "https://localhost:8080/"
        },
        "id": "NPs4SMTu2l3N",
        "outputId": "43bc95d0-97f4-4c8b-86ba-f9a48031a2f2"
      },
      "outputs": [
        {
          "data": {
            "text/plain": [
              "{'neutral': 0.0,\n",
              " 'worry': 1.0,\n",
              " 'happiness': 2.0,\n",
              " 'sadness': 3.0,\n",
              " 'love': 4.0,\n",
              " 'surprise': 5.0,\n",
              " 'fun': 6.0,\n",
              " 'relief': 7.0,\n",
              " 'hate': 8.0,\n",
              " 'empty': 9.0,\n",
              " 'enthusiasm': 10.0,\n",
              " 'boredom': 11.0,\n",
              " 'anger': 12.0}"
            ]
          },
          "execution_count": 204,
          "metadata": {},
          "output_type": "execute_result"
        }
      ],
      "source": [
        "label_dict"
      ]
    },
    {
      "cell_type": "code",
      "execution_count": null,
      "metadata": {
        "id": "Xg1qNYKt4QO0"
      },
      "outputs": [],
      "source": [
        "#naivebyas"
      ]
    },
    {
      "cell_type": "code",
      "execution_count": null,
      "metadata": {
        "id": "i55n5qpm3f0H"
      },
      "outputs": [],
      "source": [
        "from pyspark.ml.classification import NaiveBayes"
      ]
    },
    {
      "cell_type": "code",
      "execution_count": null,
      "metadata": {
        "id": "lcYW1KrL3hBY"
      },
      "outputs": [],
      "source": [
        "nb = NaiveBayes(featuresCol='vectorizedFeatures',labelCol='label')"
      ]
    },
    {
      "cell_type": "code",
      "execution_count": null,
      "metadata": {
        "id": "uTinhDN22vTN"
      },
      "outputs": [],
      "source": [
        "pipeline = Pipeline(stages=[tokenizer,stopword_remover,vectorizer,idf,nb])"
      ]
    },
    {
      "cell_type": "code",
      "execution_count": null,
      "metadata": {
        "colab": {
          "base_uri": "https://localhost:8080/"
        },
        "id": "oQdZf0ZF39mh",
        "outputId": "2d17e572-e9b3-4104-88da-8a9ffb1fd594"
      },
      "outputs": [
        {
          "data": {
            "text/plain": [
              "Pipeline_f2ec36e26d0d"
            ]
          },
          "execution_count": 209,
          "metadata": {},
          "output_type": "execute_result"
        }
      ],
      "source": [
        "pipeline"
      ]
    },
    {
      "cell_type": "code",
      "execution_count": null,
      "metadata": {
        "colab": {
          "base_uri": "https://localhost:8080/"
        },
        "id": "jsqP2ol14GQz",
        "outputId": "2192397e-c04f-4929-dfe7-e1593fa2e26a"
      },
      "outputs": [
        {
          "data": {
            "text/plain": [
              "Param(parent='Pipeline_f2ec36e26d0d', name='stages', doc='a list of pipeline stages')"
            ]
          },
          "execution_count": 210,
          "metadata": {},
          "output_type": "execute_result"
        }
      ],
      "source": [
        "pipeline.stages"
      ]
    },
    {
      "cell_type": "code",
      "execution_count": null,
      "metadata": {
        "id": "e6iRWeNp4NQq"
      },
      "outputs": [],
      "source": [
        "nb_model = pipeline.fit(trainDF)"
      ]
    },
    {
      "cell_type": "code",
      "execution_count": null,
      "metadata": {
        "colab": {
          "base_uri": "https://localhost:8080/"
        },
        "id": "-VHoWNqU4XlA",
        "outputId": "7834cccb-6389-4009-e62f-99a3a17627b9"
      },
      "outputs": [
        {
          "data": {
            "text/plain": [
              "PipelineModel_0b85df7ddcff"
            ]
          },
          "execution_count": 212,
          "metadata": {},
          "output_type": "execute_result"
        }
      ],
      "source": [
        "nb_model"
      ]
    },
    {
      "cell_type": "code",
      "execution_count": null,
      "metadata": {
        "id": "Cw0l1Rgm4arV"
      },
      "outputs": [],
      "source": [
        "predictions = lr_model.transform(testDF)"
      ]
    },
    {
      "cell_type": "code",
      "execution_count": null,
      "metadata": {
        "colab": {
          "base_uri": "https://localhost:8080/"
        },
        "id": "Cl93pr054dP6",
        "outputId": "c9a385a9-03b2-4f7b-e7b9-4a9025f460f5"
      },
      "outputs": [
        {
          "name": "stdout",
          "output_type": "stream",
          "text": [
            "+--------------------+----------+-----+--------------------+--------------------+--------------------+--------------------+--------------------+--------------------+----------+\n",
            "|             content| sentiment|label|            mytokens|     filtered_tokens|         rawFeatures|  vectorizedFeatures|       rawPrediction|         probability|prediction|\n",
            "+--------------------+----------+-----+--------------------+--------------------+--------------------+--------------------+--------------------+--------------------+----------+\n",
            "|#3wordsaftersex I...|   sadness|  3.0|[#3wordsaftersex,...|[#3wordsaftersex,...|(56877,[473,5106]...|(56877,[473,5106]...|[8.55460647939477...|[2.84644223141026...|       3.0|\n",
            "|#3wordsaftersex i...|   sadness|  3.0|[#3wordsaftersex,...|[#3wordsaftersex,...|(56877,[63,5106],...|(56877,[63,5106],...|[15.0237728367405...|[9.50653650672851...|       3.0|\n",
            "|#Ajax #php! Just ...|     worry|  1.0|[#ajax, #php!, ju...|[#ajax, #php!, th...|(56877,[86,236,49...|(56877,[86,236,49...|[1.45547326937356...|[1.26183843001997...|       1.0|\n",
            "|#BGT  Piers shoul...|      hate|  8.0|[#bgt, , piers, s...|[#bgt, , piers, b...|(56877,[0,66,470,...|(56877,[0,66,470,...|[-2.4002283711888...|[2.47386194078386...|       1.0|\n",
            "|  #BGT That poor kid|     worry|  1.0|[#bgt, that, poor...|   [#bgt, poor, kid]|(56877,[196,900,2...|(56877,[196,900,2...|[-6.0586262753878...|[6.49182338296164...|       1.0|\n",
            "|#BGT should littl...|   neutral|  0.0|[#bgt, should, li...|[#bgt, little, ho...|(56877,[66,70,196...|(56877,[66,70,196...|[-47.105279973346...|[1.52066013242034...|       1.0|\n",
            "|#BSNL, Stupid net...|     worry|  1.0|[#bsnl,, stupid, ...|[#bsnl,, stupid, ...|(56877,[1,130,201...|(56877,[1,130,201...|[-0.2359934182387...|[6.14475922485804...|       3.0|\n",
            "|#DuckRaces in the...|   neutral|  0.0|[#duckraces, in, ...|[#duckraces, bath...|(56877,[0,11,26,3...|(56877,[0,11,26,3...|[18.1098355652949...|[0.03533153747567...|       7.0|\n",
            "|#Ferber As happen...|     worry|  1.0|[#ferber, as, hap...|[#ferber, happens...|(56877,[0,24,249,...|(56877,[0,24,249,...|[2.52449644896947...|[5.67815719571314...|       7.0|\n",
            "|#Happy Mother's D...|     worry|  1.0|[#happy, mother's...|[#happy, mother's...|(56877,[1,46,1555...|(56877,[1,46,1555...|[6.18681356014903...|[6.89974843309266...|       2.0|\n",
            "|#Happy Stars Wars...| happiness|  2.0|[#happy, stars, w...|[#happy, stars, w...|(56877,[0,1,40,81...|(56877,[0,1,40,81...|[11.6815564173427...|[3.53333394749663...|       1.0|\n",
            "|#NHL Not a fan of...|enthusiasm| 10.0|[#nhl, not, a, fa...|[#nhl, fan, eithe...|(56877,[0,6,71,19...|(56877,[0,6,71,19...|[-16.525493728778...|[3.81411522394921...|       4.0|\n",
            "|#PhpEd 5.6 runnin...| happiness|  2.0|[#phped, 5.6, run...|[#phped, 5.6, run...|(56877,[2,256,539...|(56877,[2,256,539...|[40.4499221284630...|[0.99999999880395...|       0.0|\n",
            "|#SanctuarySunday ...|       fun|  6.0|[#sanctuarysunday...|[#sanctuarysunday...|(56877,[41,67,327...|(56877,[41,67,327...|[-0.7527549115683...|[2.76092501778171...|       2.0|\n",
            "|#SanctuarySunday ...|       fun|  6.0|[#sanctuarysunday...|[#sanctuarysunday...|(56877,[79,92,317...|(56877,[79,92,317...|[-5.3147127447827...|[2.02922550167760...|       2.0|\n",
            "|#SanctuarySunday ...|   neutral|  0.0|[#sanctuarysunday...|[#sanctuarysunday...|(56877,[355,609,1...|(56877,[355,609,1...|[18.5889020805742...|[0.98673234260216...|       0.0|\n",
            "|#SanctuarySunday ...| happiness|  2.0|[#sanctuarysunday...|[#sanctuarysunday...|(56877,[0,118,234...|(56877,[0,118,234...|[20.2375799902423...|[0.40734434092718...|       2.0|\n",
            "|#Volvicchallenge ...|   neutral|  0.0|[#volvicchallenge...|[#volvicchallenge...|(56877,[0,25,435,...|(56877,[0,25,435,...|[-11.923804414080...|[1.29993783999390...|       2.0|\n",
            "|#bgt Aw bless her...| happiness|  2.0|[#bgt, aw, bless,...|[#bgt, aw, bless,...|(56877,[3,56,68,9...|(56877,[3,56,68,9...|[-23.427880451125...|[2.01987079501750...|       1.0|\n",
            "|#bgt Can't watch ...|   neutral|  0.0|[#bgt, can't, wat...|[#bgt, watch, any...|(56877,[92,533,20...|(56877,[92,533,20...|[1.00787711682571...|[1.00417939873487...|       1.0|\n",
            "+--------------------+----------+-----+--------------------+--------------------+--------------------+--------------------+--------------------+--------------------+----------+\n",
            "only showing top 20 rows\n",
            "\n"
          ]
        }
      ],
      "source": [
        "predictions.show()"
      ]
    },
    {
      "cell_type": "code",
      "execution_count": null,
      "metadata": {
        "colab": {
          "base_uri": "https://localhost:8080/"
        },
        "id": "u0IYLIhG4e08",
        "outputId": "f7514230-b14b-4813-ba88-7a9f9d0d0ebf"
      },
      "outputs": [
        {
          "data": {
            "text/plain": [
              "['content',\n",
              " 'sentiment',\n",
              " 'label',\n",
              " 'mytokens',\n",
              " 'filtered_tokens',\n",
              " 'rawFeatures',\n",
              " 'vectorizedFeatures',\n",
              " 'rawPrediction',\n",
              " 'probability',\n",
              " 'prediction']"
            ]
          },
          "execution_count": 215,
          "metadata": {},
          "output_type": "execute_result"
        }
      ],
      "source": [
        "predictions.columns"
      ]
    },
    {
      "cell_type": "code",
      "execution_count": null,
      "metadata": {
        "colab": {
          "base_uri": "https://localhost:8080/"
        },
        "id": "JFFaCuE84qJZ",
        "outputId": "256f17fa-0574-4976-e5fb-b981af5b426b"
      },
      "outputs": [
        {
          "name": "stdout",
          "output_type": "stream",
          "text": [
            "+--------------------+--------------------+---------+-----+----------+\n",
            "|       rawPrediction|         probability|sentiment|label|prediction|\n",
            "+--------------------+--------------------+---------+-----+----------+\n",
            "|[8.55460647939477...|[2.84644223141026...|  sadness|  3.0|       3.0|\n",
            "|[15.0237728367405...|[9.50653650672851...|  sadness|  3.0|       3.0|\n",
            "|[1.45547326937356...|[1.26183843001997...|    worry|  1.0|       1.0|\n",
            "|[-2.4002283711888...|[2.47386194078386...|     hate|  8.0|       1.0|\n",
            "|[-6.0586262753878...|[6.49182338296164...|    worry|  1.0|       1.0|\n",
            "|[-47.105279973346...|[1.52066013242034...|  neutral|  0.0|       1.0|\n",
            "|[-0.2359934182387...|[6.14475922485804...|    worry|  1.0|       3.0|\n",
            "|[18.1098355652949...|[0.03533153747567...|  neutral|  0.0|       7.0|\n",
            "|[2.52449644896947...|[5.67815719571314...|    worry|  1.0|       7.0|\n",
            "|[6.18681356014903...|[6.89974843309266...|    worry|  1.0|       2.0|\n",
            "+--------------------+--------------------+---------+-----+----------+\n",
            "only showing top 10 rows\n",
            "\n"
          ]
        }
      ],
      "source": [
        "predictions.select('rawPrediction','probability','sentiment','label','prediction').show(10)"
      ]
    },
    {
      "cell_type": "code",
      "execution_count": null,
      "metadata": {
        "id": "Y5T6nU-W4wmf"
      },
      "outputs": [],
      "source": [
        "evaluator = MulticlassClassificationEvaluator(labelCol='label',predictionCol='prediction',metricName='accuracy')"
      ]
    },
    {
      "cell_type": "code",
      "execution_count": null,
      "metadata": {
        "id": "kwMITvZ048Wy"
      },
      "outputs": [],
      "source": [
        "accuracy = evaluator.evaluate(predictions)"
      ]
    },
    {
      "cell_type": "code",
      "execution_count": null,
      "metadata": {
        "colab": {
          "base_uri": "https://localhost:8080/"
        },
        "id": "zGwl30XB4-O9",
        "outputId": "a6ff2e3a-2e51-4d65-ed25-bb87680773be"
      },
      "outputs": [
        {
          "data": {
            "text/plain": [
              "0.22861938732689888"
            ]
          },
          "execution_count": 219,
          "metadata": {},
          "output_type": "execute_result"
        }
      ],
      "source": [
        "accuracy"
      ]
    },
    {
      "cell_type": "code",
      "execution_count": null,
      "metadata": {
        "id": "4L96vh-D4_gW"
      },
      "outputs": [],
      "source": []
    }
  ],
  "metadata": {
    "colab": {
      "provenance": []
    },
    "kernelspec": {
      "display_name": "Python 3",
      "name": "python3"
    },
    "language_info": {
      "name": "python"
    }
  },
  "nbformat": 4,
  "nbformat_minor": 0
}